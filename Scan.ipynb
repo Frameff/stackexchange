{
 "cells": [
  {
   "cell_type": "code",
   "execution_count": 1,
   "metadata": {},
   "outputs": [],
   "source": [
    "import numpy as np\n",
    "\n",
    "import theano\n",
    "import theano.tensor as T\n",
    "\n",
    "# x is input placeholder\n",
    "x = T.dmatrix('x')\n",
    "acc = T.dmatrix('acc')\n",
    "# symbolic expression for logistic function\n",
    "pow_s = acc * x\n",
    "# register s as a function of x\n",
    "pow_fn = theano.function([acc, x], pow_s)"
   ]
  },
  {
   "cell_type": "code",
   "execution_count": 2,
   "metadata": {
    "collapsed": true
   },
   "outputs": [],
   "source": [
    "def use_pow_fn(m, n=n):\n",
    "  acc = np.copy(m)\n",
    "  for __ in range(n):\n",
    "    acc = pow_fn(acc, m)\n",
    "  return acc"
   ]
  },
  {
   "cell_type": "code",
   "execution_count": 3,
   "metadata": {
    "collapsed": true
   },
   "outputs": [],
   "source": [
    "m = np.array([[1.01, 0], [0, 1]])"
   ]
  },
  {
   "cell_type": "code",
   "execution_count": 4,
   "metadata": {},
   "outputs": [
    {
     "name": "stdout",
     "output_type": "stream",
     "text": [
      "CPU times: user 0 ns, sys: 0 ns, total: 0 ns\n",
      "Wall time: 478 µs\n",
      "CPU times: user 20 ms, sys: 0 ns, total: 20 ms\n",
      "Wall time: 19.7 ms\n",
      "CPU times: user 196 ms, sys: 0 ns, total: 196 ms\n",
      "Wall time: 194 ms\n"
     ]
    },
    {
     "data": {
      "text/plain": [
       "array([[  1.65218700e+43,   0.00000000e+00],\n",
       "       [  0.00000000e+00,   1.00000000e+00]])"
      ]
     },
     "execution_count": 4,
     "metadata": {},
     "output_type": "execute_result"
    }
   ],
   "source": [
    "%time use_pow_fn(m, 10)\n",
    "%time use_pow_fn(m, 1000)\n",
    "%time use_pow_fn(m, 10000)"
   ]
  },
  {
   "cell_type": "code",
   "execution_count": 5,
   "metadata": {
    "collapsed": true
   },
   "outputs": [],
   "source": [
    "def use_pow_scan(m, n=n):\n",
    " \n",
    "  def recur(acc, x):\n",
    "    return acc * x\n",
    "  \n",
    "  results, updates = theano.scan(fn=recur,\n",
    "                                 outputs_info=T.ones_like(x),\n",
    "                                 non_sequences=[x],\n",
    "                                 n_steps=n+1)\n",
    "  result = results[-1]\n",
    "  fn = theano.function(inputs=[x], outputs=[result])\n",
    "  \n",
    "  return fn(m)"
   ]
  },
  {
   "cell_type": "code",
   "execution_count": 6,
   "metadata": {},
   "outputs": [
    {
     "name": "stdout",
     "output_type": "stream",
     "text": [
      "CPU times: user 244 ms, sys: 32 ms, total: 276 ms\n",
      "Wall time: 278 ms\n",
      "CPU times: user 128 ms, sys: 0 ns, total: 128 ms\n",
      "Wall time: 127 ms\n",
      "CPU times: user 212 ms, sys: 4 ms, total: 216 ms\n",
      "Wall time: 215 ms\n"
     ]
    },
    {
     "data": {
      "text/plain": [
       "[array([[  1.65218700e+43,   0.00000000e+00],\n",
       "        [  0.00000000e+00,   1.00000000e+00]])]"
      ]
     },
     "execution_count": 6,
     "metadata": {},
     "output_type": "execute_result"
    }
   ],
   "source": [
    "%time use_pow_scan(m, 10)\n",
    "%time use_pow_scan(m, 1000)\n",
    "%time use_pow_scan(m, 10000)"
   ]
  }
 ],
 "metadata": {
  "hide_input": false,
  "kernelspec": {
   "display_name": "Python 3",
   "language": "python",
   "name": "python3"
  },
  "language_info": {
   "codemirror_mode": {
    "name": "ipython",
    "version": 3
   },
   "file_extension": ".py",
   "mimetype": "text/x-python",
   "name": "python",
   "nbconvert_exporter": "python",
   "pygments_lexer": "ipython3",
   "version": "3.5.3"
  }
 },
 "nbformat": 4,
 "nbformat_minor": 2
}
