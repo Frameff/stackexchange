{
 "cells": [
  {
   "cell_type": "markdown",
   "metadata": {},
   "source": [
    "# Multinomial vs Bernoulli Naive Bayes"
   ]
  },
  {
   "cell_type": "code",
   "execution_count": 1,
   "metadata": {
    "collapsed": true
   },
   "outputs": [],
   "source": [
    "import numpy as np\n",
    "import re\n",
    "import itertools \n",
    "\n",
    "from sklearn.feature_extraction.text import CountVectorizer\n",
    "from sklearn import naive_bayes \n",
    "from sklearn.model_selection import GridSearchCV \n",
    "from sklearn.metrics import confusion_matrix\n",
    "from sklearn.model_selection import train_test_split\n",
    "\n",
    "from nltk.corpus import stopwords\n",
    "from nltk.stem import (SnowballStemmer, PorterStemmer) \n",
    "from nltk.tokenize import wordpunct_tokenize\n",
    "\n",
    "import matplotlib.pyplot as plt\n",
    "%matplotlib inline"
   ]
  },
  {
   "cell_type": "markdown",
   "metadata": {},
   "source": [
    "### Tokenization (stemming) "
   ]
  },
  {
   "cell_type": "code",
   "execution_count": 2,
   "metadata": {
    "collapsed": true
   },
   "outputs": [],
   "source": [
    "stemmer = PorterStemmer()#(\"english\", ignore_stopwords=True)\n",
    "\n",
    "def load_data(input_name):\n",
    "  data = open(input_name).read()\n",
    "  lines = data.splitlines()\n",
    "  return lines \n",
    "\n",
    "def process(line):\n",
    "  return ([stemmer.stem(word.lower())\n",
    "           for word in wordpunct_tokenize(line) \n",
    "           if re.match(r'[a-z]+(!)*', word.lower())])\n",
    "\n",
    "def tokenize_stem(line):\n",
    "  return \" \".join(process(line))\n",
    "\n",
    "#classes = [line[0] for line in data]\n",
    "#smss = [line[1:] for line in data]"
   ]
  },
  {
   "cell_type": "markdown",
   "metadata": {},
   "source": [
    "## Data \n",
    "## [SMS Spam Collection Data Set](https://archive.ics.uci.edu/ml/datasets/SMS+Spam+Collection)"
   ]
  },
  {
   "cell_type": "code",
   "execution_count": 3,
   "metadata": {
    "collapsed": true
   },
   "outputs": [],
   "source": [
    "smss = load_data('data/SMSSpamCollection')\n",
    "tokenized_smss = [tokenize_stem(line.split('\\t', 1)[1]) for line in smss]"
   ]
  },
  {
   "cell_type": "code",
   "execution_count": 4,
   "metadata": {},
   "outputs": [
    {
     "name": "stdout",
     "output_type": "stream",
     "text": [
      "sms\n",
      "ham\tGo until jurong point, crazy.. Available only in bugis n great world la e buffet... Cine there got amore wat...\n",
      "sms after tokenization\n",
      "go until jurong point crazi avail onli in bugi n great world la e buffet cine there got amor wat\n",
      "sms\n",
      "ham\tOk lar... Joking wif u oni...\n",
      "sms after tokenization\n",
      "ok lar joke wif u oni\n",
      "sms\n",
      "spam\tFree entry in 2 a wkly comp to win FA Cup final tkts 21st May 2005. Text FA to 87121 to receive entry question(std txt rate)T&C's apply 08452810075over18's\n",
      "sms after tokenization\n",
      "free entri in a wkli comp to win fa cup final tkt may text fa to to receiv entri question std txt rate t c s appli s\n",
      "sms\n",
      "ham\tU dun say so early hor... U c already then say...\n",
      "sms after tokenization\n",
      "u dun say so earli hor u c alreadi then say\n",
      "sms\n",
      "ham\tNah I don't think he goes to usf, he lives around here though\n",
      "sms after tokenization\n",
      "nah i don t think he goe to usf he live around here though\n"
     ]
    }
   ],
   "source": [
    "for i in range(5):\n",
    "  print('sms')\n",
    "  print(smss[i])\n",
    "  print('sms after tokenization')\n",
    "  print(tokenized_smss[i])"
   ]
  },
  {
   "cell_type": "code",
   "execution_count": 5,
   "metadata": {
    "collapsed": true
   },
   "outputs": [],
   "source": [
    "vectorizer = CountVectorizer() \n",
    "\n",
    "data = vectorizer.fit_transform(tokenized_smss)\n",
    "target = np.array([line[:3] for line in smss]) != 'ham'"
   ]
  },
  {
   "cell_type": "code",
   "execution_count": 6,
   "metadata": {},
   "outputs": [
    {
     "name": "stdout",
     "output_type": "stream",
     "text": [
      "Percentage of spam examples: 13.4%\n",
      "Baseline 'not spam' has 86.6% accuracy\n"
     ]
    }
   ],
   "source": [
    "print(\"Percentage of spam examples:\", str(100 *round(target.mean(),4)) + \"%\")\n",
    "print(\"Baseline 'not spam' has\", str(100 * (1 - round(target.mean(),4))) + \"% accuracy\")"
   ]
  },
  {
   "cell_type": "markdown",
   "metadata": {},
   "source": [
    "### Scikit-learn\n",
    "\n",
    "In sklearn we have 2 kinds of Naive Bayes classifiers for categorical data\n",
    "\n",
    "* [Multinomial](http://scikit-learn.org/stable/modules/naive_bayes.html#multinomial-naive-bayes)\n",
    "\n",
    "* [Bernoulli](http://scikit-learn.org/stable/modules/naive_bayes.html#bernoulli-naive-bayes)"
   ]
  },
  {
   "cell_type": "code",
   "execution_count": 7,
   "metadata": {
    "collapsed": true
   },
   "outputs": [],
   "source": [
    "mnb = naive_bayes.MultinomialNB()\n",
    "bnb = naive_bayes.BernoulliNB()\n",
    "\n",
    "param_grid = {\"alpha\": np.linspace(0.01, 1, 50)}\n",
    "\n",
    "mnb_cv = GridSearchCV(mnb, param_grid, cv = 10)\n",
    "bnb_cv = GridSearchCV(bnb, param_grid, cv = 10)"
   ]
  },
  {
   "cell_type": "code",
   "execution_count": 8,
   "metadata": {},
   "outputs": [
    {
     "name": "stdout",
     "output_type": "stream",
     "text": [
      "Best Multinomial NB accuracy: 0.981700753498\n",
      "alpha for best accuracy {'alpha': 0.01}\n"
     ]
    }
   ],
   "source": [
    "mnb_cv.fit(data, target)\n",
    "print(\"Best Multinomial NB accuracy:\", mnb_cv.best_score_)\n",
    "print(\"alpha for best accuracy\", mnb_cv.best_params_)"
   ]
  },
  {
   "cell_type": "code",
   "execution_count": 9,
   "metadata": {},
   "outputs": [
    {
     "name": "stdout",
     "output_type": "stream",
     "text": [
      "Best Bernoulli NB accuracy: 0.986903480445\n",
      "alpha for best accuracy {'alpha': 0.01}\n"
     ]
    }
   ],
   "source": [
    "bnb_cv.fit(data, target)\n",
    "print(\"Best Bernoulli NB accuracy:\", bnb_cv.best_score_)\n",
    "print(\"alpha for best accuracy\", bnb_cv.best_params_)"
   ]
  },
  {
   "cell_type": "code",
   "execution_count": 10,
   "metadata": {
    "collapsed": true
   },
   "outputs": [],
   "source": [
    "[data_train, data_test, target_train, target_test] = train_test_split(data, target)"
   ]
  },
  {
   "cell_type": "code",
   "execution_count": 11,
   "metadata": {
    "collapsed": true
   },
   "outputs": [],
   "source": [
    "def model_confusion_matrix(model, X, y, X_test, y_test):\n",
    "  model.fit(X, y)\n",
    "  y_predicted = model.predict(X_test)\n",
    "  return confusion_matrix(y_predicted, y_test)"
   ]
  },
  {
   "cell_type": "markdown",
   "metadata": {},
   "source": [
    "# Confusion matrix\n",
    "\n",
    "Since the data is severely unbalanced it's best use different metrics for classification, namely\n",
    "\n",
    "$TP/(TP+FN)$\n",
    "\n",
    "i \n",
    "\n",
    "$TN/(TN+FN)$"
   ]
  },
  {
   "cell_type": "code",
   "execution_count": 12,
   "metadata": {},
   "outputs": [
    {
     "data": {
      "image/png": "[encoded data removed]",
      "text/plain": [
       "<matplotlib.figure.Figure at 0x7f08614ad390>"
      ]
     },
     "metadata": {},
     "output_type": "display_data"
    },
    {
     "data": {
      "image/png": "[encoded data removed]",
      "text/plain": [
       "<matplotlib.figure.Figure at 0x7f0868f04978>"
      ]
     },
     "metadata": {},
     "output_type": "display_data"
    }
   ],
   "source": [
    "for (clf, name) in [(mnb_cv, \"Multinomial NB\"), (bnb_cv, \"Bernoulli NB\")]:\n",
    "  best = clf.best_estimator_\n",
    "  cm = model_confusion_matrix(best, data_train, target_train, data_test, target_test)\n",
    "  plt.imshow(cm, interpolation='nearest', cmap='RdBu')\n",
    "  \n",
    "  interp = '{}:\\n Overall accuracy= {}%\\nTP/(TP+FN) = {}%\\nTN/(TN+FN) = {}%'\n",
    "  plt.title((\n",
    "    interp.format(\n",
    "        name,\n",
    "        round(100 * clf.best_score_, 3),\n",
    "        round(cm[1,1] / (cm[1, 1] + cm[1, 0]), 3),\n",
    "        round(cm[0,0] / (cm[0, 0] + cm[1, 0]), 3)\n",
    "      ))\n",
    "  )\n",
    "  \n",
    "  plt.xlabel('Predicted')\n",
    "  plt.ylabel('Actual')\n",
    "  plt.xticks([0,1], ['ham', 'spam'] )\n",
    "  plt.yticks([0,1], ['ham', 'spam'] )\n",
    "  for i, j in itertools.product(range(cm.shape[0]), range(cm.shape[1])):\n",
    "          plt.text(j, i,\n",
    "                   100 * round(cm[i, j] / cm.sum(), 5),\n",
    "                   horizontalalignment=\"center\",\n",
    "                   color=\"white\")\n",
    "  \n",
    "  plt.show()"
   ]
  }
 ],
 "metadata": {
  "anaconda-cloud": {},
  "hide_input": false,
  "kernelspec": {
   "display_name": "Python 3",
   "language": "python",
   "name": "python3"
  },
  "language_info": {
   "codemirror_mode": {
    "name": "ipython",
    "version": 3
   },
   "file_extension": ".py",
   "mimetype": "text/x-python",
   "name": "python",
   "nbconvert_exporter": "python",
   "pygments_lexer": "ipython3",
   "version": "3.5.3"
  }
 },
 "nbformat": 4,
 "nbformat_minor": 1
}
